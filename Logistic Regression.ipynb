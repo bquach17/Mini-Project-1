{
 "cells": [
  {
   "cell_type": "code",
   "execution_count": 2,
   "metadata": {},
   "outputs": [],
   "source": [
    "import numpy as np\n",
    "from matplotlib import pyplot as plt\n",
    "from sklearn.linear_model import LinearRegression\n",
    "from sklearn.linear_model import LogisticRegression\n",
    "from sklearn.model_selection import train_test_split\n",
    "%matplotlib inline"
   ]
  },
  {
   "cell_type": "markdown",
   "metadata": {},
   "source": [
    "### Load the data:"
   ]
  },
  {
   "cell_type": "code",
   "execution_count": 49,
   "metadata": {},
   "outputs": [],
   "source": [
    "#For normalizing Data\n",
    "def normalize(x_in, x_out):\n",
    "    '''\n",
    "    Given training datapoints x_in texting points x_out, \n",
    "    it returns normalized x_in and x_out\n",
    "    Inputs:\n",
    "        x_in: A (N, D) shaped training data.\n",
    "        x_out: A (N, D) shaped testing data.\n",
    "\n",
    "    Outputs:\n",
    "        x_in, x_out: normalized data based on x_in\n",
    "    '''\n",
    "    x_in_norm = np.copy(x_in)\n",
    "    x_out_norm = np.copy(x_out)\n",
    "    n, d = x_in.shape\n",
    "    std_dev = [0]*d \n",
    "    mean = [0]*d\n",
    "    for j in range(d):\n",
    "        mean[j] = np.mean(x_in[:, j])\n",
    "        std_dev[j]= np.std(x_in[:, j])\n",
    "    for i, x_i in enumerate(x_in):\n",
    "        for  j, x in enumerate(x_i):\n",
    "            if std_dev[j] != 0:\n",
    "                x_in_norm[i,j] = (x - mean[j])/std_dev[j]\n",
    "    for i, x_i in enumerate(x_out):\n",
    "        for  j, x in enumerate(x_i):\n",
    "            if std_dev[j] != 0:\n",
    "                x_out_norm[i,j] = (x - mean[j])/std_dev[j]\n",
    "    return x_in_norm, x_out_norm"
   ]
  },
  {
   "cell_type": "code",
   "execution_count": 3,
   "metadata": {},
   "outputs": [
    {
     "ename": "NameError",
     "evalue": "name 'normalize' is not defined",
     "output_type": "error",
     "traceback": [
      "\u001b[0;31m---------------------------------------------------------------------------\u001b[0m",
      "\u001b[0;31mNameError\u001b[0m                                 Traceback (most recent call last)",
      "\u001b[0;32m<ipython-input-3-e060c21dc229>\u001b[0m in \u001b[0;36m<module>\u001b[0;34m\u001b[0m\n\u001b[1;32m      6\u001b[0m \u001b[0;31m#Checking for train and test data\u001b[0m\u001b[0;34m\u001b[0m\u001b[0;34m\u001b[0m\u001b[0;34m\u001b[0m\u001b[0m\n\u001b[1;32m      7\u001b[0m \u001b[0mX_train\u001b[0m\u001b[0;34m,\u001b[0m \u001b[0mX_test\u001b[0m\u001b[0;34m,\u001b[0m \u001b[0my_train\u001b[0m\u001b[0;34m,\u001b[0m \u001b[0my_test\u001b[0m \u001b[0;34m=\u001b[0m \u001b[0mtrain_test_split\u001b[0m\u001b[0;34m(\u001b[0m\u001b[0mX\u001b[0m\u001b[0;34m,\u001b[0m \u001b[0my\u001b[0m\u001b[0;34m,\u001b[0m \u001b[0mtest_size\u001b[0m\u001b[0;34m=\u001b[0m\u001b[0;36m0.2\u001b[0m\u001b[0;34m)\u001b[0m\u001b[0;34m\u001b[0m\u001b[0;34m\u001b[0m\u001b[0m\n\u001b[0;32m----> 8\u001b[0;31m \u001b[0mX_train\u001b[0m\u001b[0;34m,\u001b[0m \u001b[0mX_test\u001b[0m \u001b[0;34m=\u001b[0m \u001b[0mnormalize\u001b[0m\u001b[0;34m(\u001b[0m\u001b[0mX_train\u001b[0m\u001b[0;34m,\u001b[0m \u001b[0mX_test\u001b[0m\u001b[0;34m)\u001b[0m\u001b[0;34m\u001b[0m\u001b[0;34m\u001b[0m\u001b[0m\n\u001b[0m",
      "\u001b[0;31mNameError\u001b[0m: name 'normalize' is not defined"
     ]
    }
   ],
   "source": [
    "#Normalizing\n",
    "data = np.loadtxt('train_2008.csv', skiprows=1, delimiter=',')\n",
    "X = data[:, 3:-1]\n",
    "y = data[:, -1]\n",
    "\n",
    "#Checking for train and test data\n",
    "X_train, X_test, y_train, y_test = train_test_split(X, y, test_size=0.2)\n",
    "X_train, X_test = normalize(X_train, X_test)"
   ]
  },
  {
   "cell_type": "markdown",
   "metadata": {},
   "source": [
    "## Training for Logistic Regression:"
   ]
  },
  {
   "cell_type": "code",
   "execution_count": 114,
   "metadata": {
    "scrolled": true
   },
   "outputs": [
    {
     "name": "stderr",
     "output_type": "stream",
     "text": [
      "/Users/yoojinchung/anaconda3/lib/python3.6/site-packages/sklearn/linear_model/logistic.py:758: ConvergenceWarning: lbfgs failed to converge. Increase the number of iterations.\n",
      "  \"of iterations.\", ConvergenceWarning)\n",
      "/Users/yoojinchung/anaconda3/lib/python3.6/site-packages/sklearn/linear_model/logistic.py:758: ConvergenceWarning: lbfgs failed to converge. Increase the number of iterations.\n",
      "  \"of iterations.\", ConvergenceWarning)\n",
      "/Users/yoojinchung/anaconda3/lib/python3.6/site-packages/sklearn/linear_model/logistic.py:758: ConvergenceWarning: lbfgs failed to converge. Increase the number of iterations.\n",
      "  \"of iterations.\", ConvergenceWarning)\n",
      "/Users/yoojinchung/anaconda3/lib/python3.6/site-packages/sklearn/linear_model/logistic.py:758: ConvergenceWarning: lbfgs failed to converge. Increase the number of iterations.\n",
      "  \"of iterations.\", ConvergenceWarning)\n",
      "/Users/yoojinchung/anaconda3/lib/python3.6/site-packages/sklearn/linear_model/logistic.py:758: ConvergenceWarning: lbfgs failed to converge. Increase the number of iterations.\n",
      "  \"of iterations.\", ConvergenceWarning)\n"
     ]
    }
   ],
   "source": [
    "n = 9\n",
    "errors = [0]*n\n",
    "log = LogisticRegression(random_state=0, solver='lbfgs', max_iter=500, multi_class='multinomial')\n",
    "c_list = [0.0001*10**(x)  for x in range(n)]\n",
    "for i, c_i in enumerate(c_list):\n",
    "    log.set_params(C = c_i)\n",
    "    log.fit(X_train, y_train)\n",
    "    errors[i] = log.score(X_test, y_test)"
   ]
  },
  {
   "cell_type": "code",
   "execution_count": 127,
   "metadata": {},
   "outputs": [
    {
     "data": {
      "image/png": "[encoded data removed]",
      "text/plain": [
       "<Figure size 432x288 with 1 Axes>"
      ]
     },
     "metadata": {
      "needs_background": "light"
     },
     "output_type": "display_data"
    }
   ],
   "source": [
    "plt.figure()\n",
    "plt.plot(c_list, errors)\n",
    "plt.xlim(0.0001, 0.0001*10**(n-1))\n",
    "plt.ylim(0.7774, 0.7778)\n",
    "plt.xlabel('C')\n",
    "plt.ylabel('Score')\n",
    "plt.title('C vs score')\n",
    "plt.show()"
   ]
  },
  {
   "cell_type": "markdown",
   "metadata": {},
   "source": [
    "## Logistic regression submission"
   ]
  },
  {
   "cell_type": "code",
   "execution_count": 85,
   "metadata": {},
   "outputs": [],
   "source": [
    "X = data[:, 3:-1]\n",
    "y = data[:, -1]\n",
    "\n",
    "X_out = np.loadtxt('test_2008.csv', skiprows=1, delimiter=',')\n",
    "ids = X_out[:,0]\n",
    "X_out = X_out[:, 3:]\n",
    "\n",
    "X_train, X_test = normalize(X, X_out)\n",
    "log = LogisticRegression(random_state=0, solver='lbfgs', max_iter=1000, multi_class='multinomial').fit(X_train, y)\n",
    "predictions = log.predict_proba(X_test)"
   ]
  },
  {
   "cell_type": "code",
   "execution_count": 97,
   "metadata": {},
   "outputs": [],
   "source": [
    "prediction = np.vstack((ids,predictions[:,1])).T\n",
    "np.savetxt('prediction.csv', prediction, fmt=\"%4f\", delimiter=\",\")"
   ]
  },
  {
   "cell_type": "code",
   "execution_count": 5,
   "metadata": {},
   "outputs": [
    {
     "name": "stderr",
     "output_type": "stream",
     "text": [
      "/Users/yoojinchung/anaconda3/lib/python3.6/site-packages/sklearn/linear_model/logistic.py:758: ConvergenceWarning: lbfgs failed to converge. Increase the number of iterations.\n",
      "  \"of iterations.\", ConvergenceWarning)\n"
     ]
    }
   ],
   "source": [
    "X = data[:, 3:-1]\n",
    "y = data[:, -1]\n",
    "\n",
    "X_out = np.loadtxt('test_2008.csv', skiprows=1, delimiter=',')\n",
    "ids = X_out[:,0]\n",
    "X_out = X_out[:, 3:]\n",
    "\n",
    "log = LogisticRegression(random_state=0, solver='lbfgs', max_iter=1000, multi_class='multinomial').fit(X, y)\n",
    "predictions = log.predict_proba(X_out)\n",
    "\n",
    "prediction = np.vstack((ids,predictions[:,1])).T\n",
    "np.savetxt('prediction.csv', prediction, fmt=\"%4f\", delimiter=\",\")"
   ]
  },
  {
   "cell_type": "code",
   "execution_count": null,
   "metadata": {},
   "outputs": [],
   "source": []
  }
 ],
 "metadata": {
  "kernelspec": {
   "display_name": "Python 3",
   "language": "python",
   "name": "python3"
  },
  "language_info": {
   "codemirror_mode": {
    "name": "ipython",
    "version": 3
   },
   "file_extension": ".py",
   "mimetype": "text/x-python",
   "name": "python",
   "nbconvert_exporter": "python",
   "pygments_lexer": "ipython3",
   "version": "3.6.8"
  }
 },
 "nbformat": 4,
 "nbformat_minor": 2
}
