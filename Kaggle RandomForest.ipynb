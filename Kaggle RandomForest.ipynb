{
 "cells": [
  {
   "cell_type": "code",
   "execution_count": 1,
   "metadata": {
    "collapsed": false
   },
   "outputs": [],
   "source": [
    "import numpy as np\n",
    "from sklearn.model_selection import train_test_split\n",
    "from sklearn.ensemble import RandomForestRegressor\n",
    "import matplotlib.pyplot as plt"
   ]
  },
  {
   "cell_type": "code",
   "execution_count": 2,
   "metadata": {
    "collapsed": false
   },
   "outputs": [],
   "source": [
    "# Prepare the data for training\n",
    "X = np.loadtxt('train_2008.csv', skiprows = 1, delimiter = ',')\n",
    "data = X[:, 3:-1]\n",
    "labels = X[:, -1]"
   ]
  },
  {
   "cell_type": "code",
   "execution_count": 3,
   "metadata": {
    "collapsed": false
   },
   "outputs": [],
   "source": [
    "#For normalizing Data\n",
    "def normalize(x_in, x_out):\n",
    "    '''\n",
    "    Given training datapoints x_in texting points x_out, \n",
    "    it returns normalized x_in and x_out\n",
    "    Inputs:\n",
    "        x_in: A (N, D) shaped training data.\n",
    "        x_out: A (N, D) shaped testing data.\n",
    "\n",
    "    Outputs:\n",
    "        x_in, x_out: normalized data based on x_in\n",
    "    '''\n",
    "    x_in_norm = np.copy(x_in)\n",
    "    x_out_norm = np.copy(x_out)\n",
    "    n, d = x_in.shape\n",
    "    std_dev = [0]*d \n",
    "    mean = [0]*d\n",
    "    for j in range(d):\n",
    "        mean[j] = np.mean(x_in[:, j])\n",
    "        std_dev[j]= np.std(x_in[:, j])\n",
    "    for i, x_i in enumerate(x_in):\n",
    "        for  j, x in enumerate(x_i):\n",
    "            if std_dev[j] != 0:\n",
    "                x_in_norm[i,j] = (x - mean[j])/std_dev[j]\n",
    "    for i, x_i in enumerate(x_out):\n",
    "        for  j, x in enumerate(x_i):\n",
    "            if std_dev[j] != 0:\n",
    "                x_out_norm[i,j] = (x - mean[j])/std_dev[j]\n",
    "    return x_in_norm, x_out_norm"
   ]
  },
  {
   "cell_type": "code",
   "execution_count": 4,
   "metadata": {
    "collapsed": false
   },
   "outputs": [],
   "source": [
    "# Prepare the train and test data\n",
    "X_train, X_test, y_train, y_test = train_test_split(data, labels, test_size = 0.2)\n",
    "X_train, X_test = normalize(X_train, X_test)"
   ]
  },
  {
   "cell_type": "code",
   "execution_count": 5,
   "metadata": {
    "collapsed": true
   },
   "outputs": [],
   "source": [
    "def eval_tree_based_model_max_depth(clf, max_depth, X_train, y_train, X_test, y_test):\n",
    "    \"\"\"\n",
    "    This function evaluates the given classifier (either a decision tree or random forest) at all of the \n",
    "    maximum tree depth parameters in the vector max_depth, using the given training and testing\n",
    "    data. It returns two vector, with the training and testing classification errors.\n",
    "    \n",
    "    Inputs:\n",
    "        clf: either a decision tree or random forest classifier object\n",
    "        max_depth: a (T, ) vector of all the max_depth stopping condition parameters \n",
    "                            to test, where T is the number of parameters to test\n",
    "        X_train: (N, D) matrix of training samples.\n",
    "        y_train: (N, ) vector of training labels.\n",
    "        X_test: (N, D) matrix of test samples\n",
    "        y_test: (N, ) vector of test labels\n",
    "    Output:\n",
    "        train_err: (T, ) vector of classification errors on the training data\n",
    "        test_err: (T, ) vector of classification errors on the test data\n",
    "    \"\"\"\n",
    "    test_err = []\n",
    "    train_err = []\n",
    "    for depth in max_depth:\n",
    "        clf.set_params(max_depth = depth)\n",
    "        clf.fit(X_train, y_train)\n",
    "        test_err.append(clf.score(X_test, y_test))\n",
    "        train_err.append(clf.score(X_train, y_train))\n",
    "    return np.array(train_err), np.array(test_err)"
   ]
  },
  {
   "cell_type": "code",
   "execution_count": 6,
   "metadata": {
    "collapsed": false
   },
   "outputs": [
    {
     "name": "stderr",
     "output_type": "stream",
     "text": [
      "/Users/brandonquach/anaconda/lib/python3.5/site-packages/sklearn/ensemble/forest.py:248: FutureWarning: The default value of n_estimators will change from 10 in version 0.20 to 100 in 0.22.\n",
      "  \"10 in version 0.20 to 100 in 0.22.\", FutureWarning)\n"
     ]
    },
    {
     "data": {
      "image/png": "[encoded data removed]",
      "text/plain": [
       "<Figure size 432x288 with 1 Axes>"
      ]
     },
     "metadata": {},
     "output_type": "display_data"
    },
    {
     "name": "stdout",
     "output_type": "stream",
     "text": [
      "Test Accuracy maximized at max_depth = 8\n"
     ]
    }
   ],
   "source": [
    "clf = RandomForestRegressor()\n",
    "\n",
    "max_depth = np.arange(2, 21)\n",
    "\n",
    "train_acc, test_acc = eval_tree_based_model_max_depth(clf, max_depth, X_train, y_train, X_test, y_test)\n",
    "\n",
    "plt.figure()\n",
    "plt.plot(max_depth, test_acc, label='Testing accuracy')\n",
    "plt.plot(max_depth, train_acc, label='Training accuracy')\n",
    "plt.xlabel('Maximum Depth')\n",
    "plt.ylabel('Accuracy')\n",
    "plt.title('Random Forest Accuracy vs. Maximum Depth')\n",
    "plt.legend(loc=0, shadow=True, fontsize='x-large')\n",
    "plt.show()\n",
    "\n",
    "print('Test Accuracy maximized at max_depth = %i' % max_depth[np.argmax(test_acc)])"
   ]
  },
  {
   "cell_type": "code",
   "execution_count": 8,
   "metadata": {
    "collapsed": false
   },
   "outputs": [
    {
     "name": "stderr",
     "output_type": "stream",
     "text": [
      "/Users/brandonquach/anaconda/lib/python3.5/site-packages/sklearn/ensemble/forest.py:248: FutureWarning: The default value of n_estimators will change from 10 in version 0.20 to 100 in 0.22.\n",
      "  \"10 in version 0.20 to 100 in 0.22.\", FutureWarning)\n"
     ]
    },
    {
     "data": {
      "image/png": "[encoded data removed]",
      "text/plain": [
       "<Figure size 432x288 with 1 Axes>"
      ]
     },
     "metadata": {},
     "output_type": "display_data"
    },
    {
     "name": "stdout",
     "output_type": "stream",
     "text": [
      "Test accuracy maximized at min_samples_leaf = 19\n"
     ]
    }
   ],
   "source": [
    "def eval_tree_based_model_min_samples(clf, min_samples_leaf, X_train, y_train, X_test, y_test):\n",
    "    \"\"\"\n",
    "    This function evaluates the given classifier (either a decision tree or random forest) at all of the \n",
    "    minimum leaf size parameters in the vector min_samples_leaf, using the given training and testing\n",
    "    data. It returns two vector, with the training and testing classification errors.\n",
    "    \n",
    "    Inputs:\n",
    "        clf: either a decision tree or random forest classifier object\n",
    "        min_samples_leaf: a (T, ) vector of all the min_samples_leaf stopping condition parameters \n",
    "                            to test, where T is the number of parameters to test\n",
    "        X_train: (N, D) matrix of training samples.\n",
    "        y_train: (N, ) vector of training labels.\n",
    "        X_test: (N, D) matrix of test samples\n",
    "        y_test: (N, ) vector of test labels\n",
    "    Output:\n",
    "        train_err: (T, ) vector of classification errors on the training data\n",
    "        test_err: (T, ) vector of classification errors on the test data\n",
    "    \"\"\"\n",
    "    train_err = []\n",
    "    test_err = []\n",
    "    for minimum in min_samples_leaf:\n",
    "        clf.set_params(min_samples_leaf = minimum)\n",
    "        clf.fit(X_train, y_train)\n",
    "        train_err.append(clf.score(X_train, y_train))\n",
    "        test_err.append(clf.score(X_test, y_test))\n",
    "    return np.array(train_err), np.array(test_err)\n",
    "\n",
    "clf = RandomForestRegressor()\n",
    "\n",
    "min_samples_leaf = np.arange(1, 26)\n",
    "\n",
    "train_err, test_err = eval_tree_based_model_min_samples(clf, min_samples_leaf, X_train, y_train, X_test, y_test)\n",
    "\n",
    "plt.figure()\n",
    "plt.plot(min_samples_leaf, test_err, label='Testing Accuracy')\n",
    "plt.plot(min_samples_leaf, train_err, label='Training Accuracy')\n",
    "plt.xlabel('Minimum Node Size')\n",
    "plt.ylabel('Classification error')\n",
    "plt.title('Random Forest Accuracy vs. Minimum Node Size')\n",
    "plt.legend(loc=0, shadow=True, fontsize='x-large')\n",
    "plt.show()\n",
    "\n",
    "print('Test accuracy maximized at min_samples_leaf = %i' % min_samples_leaf[np.argmax(test_err)])"
   ]
  },
  {
   "cell_type": "code",
   "execution_count": 12,
   "metadata": {
    "collapsed": false
   },
   "outputs": [
    {
     "name": "stdout",
     "output_type": "stream",
     "text": [
      "max_features, train, test\n"
     ]
    },
    {
     "name": "stderr",
     "output_type": "stream",
     "text": [
      "/Users/brandonquach/anaconda/lib/python3.5/site-packages/sklearn/ensemble/forest.py:248: FutureWarning: The default value of n_estimators will change from 10 in version 0.20 to 100 in 0.22.\n",
      "  \"10 in version 0.20 to 100 in 0.22.\", FutureWarning)\n"
     ]
    },
    {
     "name": "stdout",
     "output_type": "stream",
     "text": [
      "auto 0.8428391980725128 0.10738954412427704\n",
      "sqrt 0.8396918274236408 0.10792076427572615\n",
      "log2 0.8380340365731728 0.10367512104980303\n"
     ]
    }
   ],
   "source": [
    "def eval_tree_based_max_features(clf, max_feat, X_train, y_train, X_test, y_test):\n",
    "    \"\"\"\n",
    "    This function evaluates the given classifier (either a decision tree or random forest) at all of the \n",
    "    minimum leaf size parameters in the vector min_samples_leaf, using the given training and testing\n",
    "    data. It returns two vector, with the training and testing classification errors.\n",
    "    \n",
    "    Inputs:\n",
    "        clf: either a decision tree or random forest classifier object\n",
    "        min_samples_leaf: a (T, ) vector of all the min_samples_leaf stopping condition parameters \n",
    "                            to test, where T is the number of parameters to test\n",
    "        X_train: (N, D) matrix of training samples.\n",
    "        y_train: (N, ) vector of training labels.\n",
    "        X_test: (N, D) matrix of test samples\n",
    "        y_test: (N, ) vector of test labels\n",
    "    Output:\n",
    "        train_err: (T, ) vector of classification errors on the training data\n",
    "        test_err: (T, ) vector of classification errors on the test data\n",
    "    \"\"\"\n",
    "    print('max_features, train, test')\n",
    "    for num_feat in max_feat:\n",
    "        clf.set_params(max_features = num_feat)\n",
    "        clf.fit(X_train, y_train)\n",
    "        print(num_feat, clf.score(X_train, y_train), clf.score(X_test, y_test))\n",
    "    return np.array(train_err), np.array(test_err)\n",
    "\n",
    "clf = RandomForestRegressor()\n",
    "\n",
    "max_feat = ['auto', 'sqrt', 'log2']\n",
    "\n",
    "train_err, test_err = eval_tree_based_max_features(clf, max_feat, X_train, y_train, X_test, y_test)"
   ]
  },
  {
   "cell_type": "code",
   "execution_count": 13,
   "metadata": {
    "collapsed": false
   },
   "outputs": [
    {
     "name": "stdout",
     "output_type": "stream",
     "text": [
      "0.19269961766986832\n"
     ]
    }
   ],
   "source": [
    "clf = RandomForestRegressor(n_estimators = 100, max_depth = 9)\n",
    "clf.fit(X_train, y_train)\n",
    "print(clf.score(X_test, y_test))"
   ]
  },
  {
   "cell_type": "code",
   "execution_count": null,
   "metadata": {
    "collapsed": true
   },
   "outputs": [],
   "source": []
  }
 ],
 "metadata": {
  "anaconda-cloud": {},
  "kernelspec": {
   "display_name": "Python [conda env:anaconda]",
   "language": "python",
   "name": "conda-env-anaconda-py"
  },
  "language_info": {
   "codemirror_mode": {
    "name": "ipython",
    "version": 3
   },
   "file_extension": ".py",
   "mimetype": "text/x-python",
   "name": "python",
   "nbconvert_exporter": "python",
   "pygments_lexer": "ipython3",
   "version": "3.5.2"
  }
 },
 "nbformat": 4,
 "nbformat_minor": 1
}
